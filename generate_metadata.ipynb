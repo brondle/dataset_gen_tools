{
 "cells": [
  {
   "cell_type": "markdown",
   "metadata": {},
   "source": [
    "Set up the notebook"
   ]
  },
  {
   "cell_type": "code",
   "execution_count": 1,
   "metadata": {},
   "outputs": [
    {
     "name": "stdout",
     "output_type": "stream",
     "text": [
      "foo\n"
     ]
    }
   ],
   "source": [
    "import os\n",
    "import csv\n",
    "import json\n",
    "\n",
    "notebook_path = os.path.abspath(\"generate_metadata.ipynb\")\n",
    "print('foo')"
   ]
  },
  {
   "cell_type": "markdown",
   "metadata": {},
   "source": [
    "Add the CSV file you're working with (in the same folder as this python notebook):"
   ]
  },
  {
   "cell_type": "code",
   "execution_count": 2,
   "metadata": {},
   "outputs": [],
   "source": [
    "infilename = 'cleaned-final/auto-mpg.csv'#\"{your file here}.csv\"\n",
    "infilepath = os.path.join(os.path.dirname(notebook_path), infilename)"
   ]
  },
  {
   "cell_type": "markdown",
   "metadata": {},
   "source": [
    "Fill out the fields for the data card, excepting \"fields\" and \"column\" - we'll get to those later. A template is [here](https://hackmd.io/62se7jj-Qoycs__e6NjS2w)."
   ]
  },
  {
   "cell_type": "code",
   "execution_count": 3,
   "metadata": {},
   "outputs": [],
   "source": [
    "data = {\n",
    "    #ignore this\n",
    "    'fields': [],\n",
    "    'defaultLabelColumn': '',\n",
    "    #here we include the basic card information\n",
    "    'card': {\n",
    "        # a short description of the dataset\n",
    "        'description': \"A small dataset of different car statistics, originally from 1983, used to predict their MPG (miles per gallon).\", \n",
    "        # a link to the original source\n",
    "        'source': 'UCI (http://archive.ics.uci.edu/ml/datasets/Auto+MPG)', \n",
    "        #date last updated (if possible)\n",
    "        'lastUpdated': '1983', \n",
    "        'context': \n",
    "        {\n",
    "            # who it was created by\n",
    "            'createdBy': \"Carnegie Mellon's StatLib\",\n",
    "            # has it been cleaned/prepared for use\n",
    "            'preparation': 'Yes', \n",
    "            # does it contain potential identifying/confidential information\n",
    "            'confidentiality': 'No', \n",
    "            # does it contain information that can identify a subgroup of people (age, race, gender)\n",
    "            'subgroupIdentifiers': 'No', \n",
    "            # what are potential uses (e.g. what are some successful combinations of features)?\n",
    "            'potentialUses': \"Determine a car's MPG based on various features like weight and horsepower.\", \n",
    "            # what should it not be used for?\n",
    "            'potentialMisuses': \"Since it's 30 years old, it may not reflect advancements in technology - don't buy your car based on this!\"\n",
    "        }\n",
    "    }\n",
    "}\n"
   ]
  },
  {
   "cell_type": "markdown",
   "metadata": {},
   "source": [
    "Now that we've done our basic setup, let's get to the columns. Run this code, which should display the available columns in the csv"
   ]
  },
  {
   "cell_type": "code",
   "execution_count": 8,
   "metadata": {},
   "outputs": [
    {
     "name": "stdout",
     "output_type": "stream",
     "text": [
      "('mpg', 'cylinders', 'displacement', 'horsepower', 'weight', 'acceleration', 'model year', 'car name')\n"
     ]
    }
   ],
   "source": [
    "with open(infilepath, 'r') as infile:\n",
    "    reader = csv.reader(infile, delimiter=\",\")\n",
    "    csv_list = list(map(tuple, reader))\n",
    "    columns = csv_list[0]\n",
    "    print(columns)"
   ]
  },
  {
   "cell_type": "markdown",
   "metadata": {},
   "source": [
    "First, if you have a recommended investigation, enter the relevant features here: "
   ]
  },
  {
   "cell_type": "code",
   "execution_count": 9,
   "metadata": {},
   "outputs": [],
   "source": [
    "#set features\n",
    "data['recommended_features'] = ['horsepower']\n",
    "#set label\n",
    "data['defaultLabelColumn'] = 'weight'"
   ]
  },
  {
   "cell_type": "markdown",
   "metadata": {},
   "source": [
    "Assign each column to a list of either continuous or categorical data, e.g. ```\n",
    "continuous = ['temperature', 'score']\n",
    "categorical = ['state', 'color']\n",
    "```"
   ]
  },
  {
   "cell_type": "code",
   "execution_count": 10,
   "metadata": {},
   "outputs": [
    {
     "name": "stdout",
     "output_type": "stream",
     "text": [
      "columns:  ('mpg', 'cylinders', 'displacement', 'horsepower', 'weight', 'acceleration', 'model year', 'car name')\n",
      "column count:  8\n"
     ]
    }
   ],
   "source": [
    "\n",
    "    continuous = ['mpg', 'cylinders', 'displacement', 'horsepower', 'weight', 'acceleration']\n",
    "    categorical = ['model year', 'car name']\n",
    "    # reset fields in case you're making changes\n",
    "    data['fields'] = []\n",
    "    for i in columns:\n",
    "        if i in continuous:\n",
    "            data['fields'].append({'type': 'continuous', 'id': i})\n",
    "        elif i in categorical:\n",
    "            data['fields'].append({'type': 'categorical', 'id': i})\n",
    "        else:\n",
    "            raise Exception(\"You forget to set a type for %f\", i)\n",
    "    \n",
    "#     print('Set field information:', data['fields'])\n",
    " #    columns = data['fields'].copy()\n",
    "#     print('\\b')\n",
    "    print('columns: ', columns)\n",
    "    print('column count: ', len(columns))\n",
    "    "
   ]
  },
  {
   "cell_type": "markdown",
   "metadata": {},
   "source": [
    "We've set our columns for the interface, now let's just add descriptions as a list - e.g. if our columns are `['Year', 'Temperature']` our list might be `['The year the measurement was taken', 'The temperature in Celsius']`. Do this in the same order the columns are printed above."
   ]
  },
  {
   "cell_type": "code",
   "execution_count": 12,
   "metadata": {},
   "outputs": [
    {
     "name": "stdout",
     "output_type": "stream",
     "text": [
      "[{'type': 'continuous', 'id': 'mpg', 'description': 'Miles per gallon.'}, {'type': 'continuous', 'id': 'cylinders', 'description': 'The number of cylinders in the engine.'}, {'type': 'continuous', 'id': 'displacement', 'description': 'A measure of cylinder volume.'}, {'type': 'continuous', 'id': 'horsepower', 'description': 'The power of the car.'}, {'type': 'continuous', 'id': 'weight', 'description': \"The car's weight in pounds.\"}, {'type': 'continuous', 'id': 'acceleration', 'description': ''}, {'type': 'categorical', 'id': 'model year', 'description': 'The year the car was released.'}, {'type': 'categorical', 'id': 'car name', 'description': 'The name of the car: all unique values'}]\n"
     ]
    }
   ],
   "source": [
    "    desc = ['Miles per gallon.', 'The number of cylinders in the engine.', 'A measure of cylinder volume.', 'The power of the car.', \"The car's weight in pounds.\", '', 'The year the car was released.', 'The name of the car: all unique values']\n",
    "    # set this to true if you want to ignore empty column descriptions\n",
    "    ignore_empty = False\n",
    "    if len(desc) < len(data['fields']) and ignore_empty == False:\n",
    "        print('number of descriptions: ', len(desc))\n",
    "        raise Exception(\"You don't have a description for each column!\")\n",
    "    for idx, i in enumerate(data['fields']):\n",
    "        if idx < len(desc) and desc[idx] is not i['id']: \n",
    "            i['description'] =  desc[idx]\n",
    "    print(data['fields'])"
   ]
  },
  {
   "cell_type": "markdown",
   "metadata": {},
   "source": [
    "Take a look and make sure everything is right, and if you're confident, we can write our data to a JSON file."
   ]
  },
  {
   "cell_type": "code",
   "execution_count": 13,
   "metadata": {},
   "outputs": [
    {
     "name": "stdout",
     "output_type": "stream",
     "text": [
      "cleaned-final/auto-mpg.csv\n"
     ]
    }
   ],
   "source": [
    "    print(infilename)\n",
    "    with open(infilename.split('.')[0] + '.json', 'w') as outfile:\n",
    "        json.dump(data, outfile)"
   ]
  },
  {
   "cell_type": "code",
   "execution_count": null,
   "metadata": {},
   "outputs": [],
   "source": []
  }
 ],
 "metadata": {
  "kernelspec": {
   "display_name": "Python 3",
   "language": "python",
   "name": "python3"
  },
  "language_info": {
   "codemirror_mode": {
    "name": "ipython",
    "version": 3
   },
   "file_extension": ".py",
   "mimetype": "text/x-python",
   "name": "python",
   "nbconvert_exporter": "python",
   "pygments_lexer": "ipython3",
   "version": "3.7.3"
  }
 },
 "nbformat": 4,
 "nbformat_minor": 5
}
