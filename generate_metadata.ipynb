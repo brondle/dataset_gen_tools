{
 "cells": [
  {
   "cell_type": "markdown",
   "id": "about-romania",
   "metadata": {},
   "source": [
    "Set up the notebook"
   ]
  },
  {
   "cell_type": "code",
   "execution_count": 40,
   "id": "revolutionary-jungle",
   "metadata": {},
   "outputs": [],
   "source": [
    "import os\n",
    "import csv\n",
    "import json\n",
    "\n",
    "notebook_path = os.path.abspath(\"generate_metadata.ipynb\")"
   ]
  },
  {
   "cell_type": "markdown",
   "id": "phantom-liabilities",
   "metadata": {},
   "source": [
    "Add the CSV file you're working with (in the same folder as this python notebook):"
   ]
  },
  {
   "cell_type": "code",
   "execution_count": 59,
   "id": "exposed-complaint",
   "metadata": {},
   "outputs": [],
   "source": [
    "infilename = 'global_land_temp_country_1995_2016.csv'#\"{your file here}.csv\"\n",
    "infilepath = os.path.join(os.path.dirname(notebook_path), infilename)"
   ]
  },
  {
   "cell_type": "markdown",
   "id": "romantic-palmer",
   "metadata": {},
   "source": [
    "Fill out the fields for the data card, excepting \"fields\" and \"column\" - we'll get to those later. A template is [here](https://hackmd.io/62se7jj-Qoycs__e6NjS2w)."
   ]
  },
  {
   "cell_type": "code",
   "execution_count": null,
   "id": "individual-contamination",
   "metadata": {},
   "outputs": [],
   "source": [
    "data = {\n",
    "    #ignore this\n",
    "    'fields': [],\n",
    "    #here we include the basic card information\n",
    "    'card': {\n",
    "        # a short description of the dataset\n",
    "        'description': '', \n",
    "        # a link to the original source\n",
    "        'source': '', \n",
    "        #date last updated (if possible)\n",
    "        'last_updated': '', \n",
    "        #ignore this\n",
    "        'columns':[], \n",
    "        'context': \n",
    "        {\n",
    "            # who it was created by\n",
    "            'created_by': '',\n",
    "            # has it been cleaned/prepared for use\n",
    "            'preparation': '', \n",
    "            # does it contain potential identifying/confidential information\n",
    "            'confidentiality': '', \n",
    "            # does it contain information that can identify a subgroup of people (age, race, gender)\n",
    "            'subgroup_identifiers': '', \n",
    "            # what are potential uses (e.g. what are some successful combinations of features)?\n",
    "            'potential_uses': '', \n",
    "            # what should it not be used for?\n",
    "            'potential_misuses': ''\n",
    "        }\n",
    "    }\n",
    "}\n"
   ]
  },
  {
   "cell_type": "markdown",
   "id": "wireless-sector",
   "metadata": {},
   "source": [
    "Now that we've done our basic setup, let's get to the columns. Run this code, which should display the available columns in the csv"
   ]
  },
  {
   "cell_type": "code",
   "execution_count": 42,
   "id": "disciplinary-creek",
   "metadata": {},
   "outputs": [
    {
     "name": "stdout",
     "output_type": "stream",
     "text": [
      "('Year', 'Day', 'Month', 'AverageTemperature', 'AverageTemperatureUncertainty', 'Country')\n"
     ]
    }
   ],
   "source": [
    "with open(infilepath, 'r') as infile:\n",
    "    reader = csv.reader(infile, delimiter=\",\")\n",
    "    csv_list = list(map(tuple, reader))\n",
    "    columns = csv_list[0]\n",
    "    print(columns)"
   ]
  },
  {
   "cell_type": "markdown",
   "id": "determined-click",
   "metadata": {},
   "source": [
    "Assign each column to a list of either continuous or categorical data, e.g. ```\n",
    "continuous = ['temperature', 'score']\n",
    "categorical = ['state', 'color']\n",
    "```"
   ]
  },
  {
   "cell_type": "code",
   "execution_count": 68,
   "id": "miniature-reggae",
   "metadata": {},
   "outputs": [
    {
     "name": "stdout",
     "output_type": "stream",
     "text": [
      "Set field information: [{'type': 'continuous', 'id': 'Year'}, {'type': 'continuous', 'id': 'Day'}, {'type': 'categorical', 'id': 'Month'}, {'type': 'continuous', 'id': 'AverageTemperature'}, {'type': 'continuous', 'id': 'AverageTemperatureUncertainty'}, {'type': 'categorical', 'id': 'Country'}]\n",
      "\b\n",
      "columns:  ('Year', 'Day', 'Month', 'AverageTemperature', 'AverageTemperatureUncertainty', 'Country')\n"
     ]
    }
   ],
   "source": [
    "    continuous = ['Year', 'Day', 'AverageTemperature', 'AverageTemperatureUncertainty']\n",
    "    categorical = ['Country', 'Month']\n",
    "    # reset fields in case you're making changes\n",
    "    data['fields'] = []\n",
    "    for i in columns:\n",
    "        if i in continuous:\n",
    "            data['fields'].append({'type': 'continuous', 'id': i})\n",
    "        elif i in categorical:\n",
    "            data['fields'].append({'type': 'categorical', 'id': i})\n",
    "        else:\n",
    "            raise Exception(\"You forget to set a type for %f\", i)\n",
    "    \n",
    "    print('Set field information:', data['fields'])\n",
    "    data['card']['columns'] = data['fields'].copy()\n",
    "    print('\\b')\n",
    "    print('columns: ', columns)\n",
    "\n",
    "    "
   ]
  },
  {
   "cell_type": "markdown",
   "id": "supposed-national",
   "metadata": {},
   "source": [
    "We've set our columns for the interface, now let's just add descriptions as a list - e.g. if our columns are `['Year', 'Temperature']` our list might be `['The year the measurement was taken', 'The temperature in Celsius']`. Do this in the same order the columns are printed above."
   ]
  },
  {
   "cell_type": "code",
   "execution_count": 62,
   "id": "honey-gossip",
   "metadata": {},
   "outputs": [],
   "source": [
    "    desc = ['The year the measurement was taken', 'The day the measurement was taken', 'The month the measurement was taken', 'The average temperature from that day in Celsius', 'The average temperature uncertainty in Celsius', 'The country where the measurement was taken']\n",
    "    if len(desc) < len(data['card']['columns']):\n",
    "        raise Exception(\"You don't have a description for each column!\")\n",
    "    for idx, i in enumerate(data['card']['columns']):\n",
    "        i['description'] =  desc[idx]\n"
   ]
  },
  {
   "cell_type": "markdown",
   "id": "rocky-commonwealth",
   "metadata": {},
   "source": [
    "Take a look and make sure everything is right, and if you're confident, we can write our data to a JSON file."
   ]
  },
  {
   "cell_type": "code",
   "execution_count": 60,
   "id": "historical-scholarship",
   "metadata": {},
   "outputs": [
    {
     "name": "stdout",
     "output_type": "stream",
     "text": [
      "global_land_temp_country_1995_2016.csv\n"
     ]
    }
   ],
   "source": [
    "    print(infilename)\n",
    "    with open(infilename.split('.')[0] + '.json', 'w') as outfile:\n",
    "        json.dump(data, outfile)"
   ]
  },
  {
   "cell_type": "code",
   "execution_count": null,
   "id": "solid-letters",
   "metadata": {},
   "outputs": [],
   "source": []
  }
 ],
 "metadata": {
  "kernelspec": {
   "display_name": "Python 3",
   "language": "python",
   "name": "python3"
  },
  "language_info": {
   "codemirror_mode": {
    "name": "ipython",
    "version": 3
   },
   "file_extension": ".py",
   "mimetype": "text/x-python",
   "name": "python",
   "nbconvert_exporter": "python",
   "pygments_lexer": "ipython3",
   "version": "3.8.1"
  }
 },
 "nbformat": 4,
 "nbformat_minor": 5
}
