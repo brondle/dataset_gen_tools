{
 "cells": [
  {
   "cell_type": "code",
   "execution_count": 14,
   "metadata": {},
   "outputs": [],
   "source": [
    "import csv\n",
    "import json\n",
    "import os\n",
    "import random\n",
    "import math"
   ]
  },
  {
   "cell_type": "markdown",
   "metadata": {},
   "source": [
    "If you're using a JSON file, you can point to it in the code block below. Otherwise, use the second code block to fill out a dict that describes the dataset you're generating. Your data should look something like this:\n",
    "``` \n",
    "data_descriptor_json = {\n",
    "  \"defaultLabelColumn\": \"recommendation\", #the default label to be predicted\n",
    "  \"fields\": [\n",
    "    {\n",
    "      \"id\": \"age\", #whatever the field contains\n",
    "      \"type\": \"continuous\", #or continuous, or binary\n",
    "      \"values\": {\n",
    "        #if categorical or binary\n",
    "        \"categories\": [],\n",
    "        #if continuous:\n",
    "        \"min\": 0,\n",
    "        \"max\": 100\n",
    "      }\n",
    "    }\n",
    "   ]\n",
    "}\n",
    "```"
   ]
  },
  {
   "cell_type": "code",
   "execution_count": 1,
   "metadata": {},
   "outputs": [
    {
     "ename": "FileNotFoundError",
     "evalue": "[Errno 2] No such file or directory: 'your_file.json'",
     "output_type": "error",
     "traceback": [
      "\u001b[0;31m---------------------------------------------------------------------------\u001b[0m",
      "\u001b[0;31mFileNotFoundError\u001b[0m                         Traceback (most recent call last)",
      "\u001b[0;32m<ipython-input-1-79f9f084a038>\u001b[0m in \u001b[0;36m<module>\u001b[0;34m\u001b[0m\n\u001b[0;32m----> 1\u001b[0;31m \u001b[0mdata_json_file\u001b[0m \u001b[0;34m=\u001b[0m \u001b[0mopen\u001b[0m\u001b[0;34m(\u001b[0m\u001b[0;34m'your_file.json'\u001b[0m\u001b[0;34m)\u001b[0m\u001b[0;34m\u001b[0m\u001b[0;34m\u001b[0m\u001b[0m\n\u001b[0m\u001b[1;32m      2\u001b[0m \u001b[0mdata_descriptor_json\u001b[0m \u001b[0;34m=\u001b[0m \u001b[0mjson\u001b[0m\u001b[0;34m.\u001b[0m\u001b[0mread\u001b[0m\u001b[0;34m(\u001b[0m\u001b[0mdata_json_file\u001b[0m\u001b[0;34m)\u001b[0m\u001b[0;34m\u001b[0m\u001b[0;34m\u001b[0m\u001b[0m\n",
      "\u001b[0;31mFileNotFoundError\u001b[0m: [Errno 2] No such file or directory: 'your_file.json'"
     ]
    }
   ],
   "source": [
    "data_json_file = open('your_file.json')\n",
    "data_descriptor_json = json.read(data_json_file)"
   ]
  },
  {
   "cell_type": "code",
   "execution_count": 4,
   "metadata": {},
   "outputs": [
    {
     "name": "stdout",
     "output_type": "stream",
     "text": [
      "{'defaultLabelColumn': 'weight', 'fields': [{'id': 'height', 'type': 'continuous', 'values': {'categories': [], 'min': 0, 'max': 100}}, {'id': 'weight', 'type': 'continuous', 'values': {'categories': [], 'min': 0, 'max': 300}}, {'id': 'age', 'type': 'continuous', 'values': {'categories': [], 'min': 0, 'max': 75}}]}\n"
     ]
    }
   ],
   "source": [
    "data_descriptor_json = {\n",
    "  \"defaultLabelColumn\": \"weight\", #the default label to be predicted\n",
    "  \"fields\": [\n",
    "    {\n",
    "      \"id\": \"height\", #whatever the field contains\n",
    "      \"type\": \"continuous\", #or continuous, or binary\n",
    "      \"values\": {\n",
    "        #if categorical or binary\n",
    "        \"categories\": [],\n",
    "        #if continuous:\n",
    "        \"min\": 0,\n",
    "        \"max\": 100\n",
    "      }\n",
    "    },\n",
    "    {\n",
    "       \"id\": \"weight\", #whatever the field contains\n",
    "      \"type\": \"continuous\", #or continuous, or binary\n",
    "      \"values\": {\n",
    "        #if categorical or binary\n",
    "        \"categories\": [],\n",
    "        #if continuous:\n",
    "        \"min\": 0,\n",
    "        \"max\": 300\n",
    "      }\n",
    "    },\n",
    "    {\n",
    "       \"id\": \"age\", #whatever the field contains\n",
    "      \"type\": \"continuous\", #or continuous, or binary\n",
    "      \"values\": {\n",
    "        #if categorical or binary\n",
    "        \"categories\": [],\n",
    "        #if continuous:\n",
    "        \"min\": 0,\n",
    "        \"max\": 75\n",
    "      }\n",
    "    },\n",
    "\n",
    "   ]\n",
    "}\n",
    "\n",
    "print(data_descriptor_json)\n"
   ]
  },
  {
   "cell_type": "markdown",
   "metadata": {},
   "source": [
    "Here we simply define the relationship our variables should have and the percentage of predictions that should *not* meet that relationship - (randomly generated) predictions."
   ]
  },
  {
   "cell_type": "code",
   "execution_count": 17,
   "metadata": {},
   "outputs": [],
   "source": [
    "# relationship = weight = sqrt(age*height)\n",
    "#we want to give the formula an object that has our variables as keys\n",
    "\n",
    "#TODO: figure out standard error?\n",
    "def formula(x):\n",
    "    return math.sqrt(x['age']*x['height'])\n",
    "\n",
    "    \n",
    "percent_error = .2 # rough percentage of predictions that are randomly generated instead of using the formula\n",
    "num_rows = 300 # the number of rows in our output dataset\n",
    "outfile_name = 'age_continuous.csv' # the name of the file we're writing to, should end in '.csv'\n",
    "predict_label = data_descriptor_json['defaultLabelColumn']\n",
    "decimal_points = 0"
   ]
  },
  {
   "cell_type": "code",
   "execution_count": 28,
   "metadata": {},
   "outputs": [
    {
     "name": "stdout",
     "output_type": "stream",
     "text": [
      "{'id': 'weight', 'type': 'continuous', 'values': {'categories': [], 'min': 0, 'max': 300}}\n",
      "{'id': 'weight', 'type': 'continuous', 'values': {'categories': [], 'min': 0, 'max': 300}}\n",
      "{'id': 'weight', 'type': 'continuous', 'values': {'categories': [], 'min': 0, 'max': 300}}\n",
      "{'id': 'weight', 'type': 'continuous', 'values': {'categories': [], 'min': 0, 'max': 300}}\n",
      "{'id': 'weight', 'type': 'continuous', 'values': {'categories': [], 'min': 0, 'max': 300}}\n",
      "{'id': 'weight', 'type': 'continuous', 'values': {'categories': [], 'min': 0, 'max': 300}}\n",
      "{'id': 'weight', 'type': 'continuous', 'values': {'categories': [], 'min': 0, 'max': 300}}\n",
      "{'id': 'weight', 'type': 'continuous', 'values': {'categories': [], 'min': 0, 'max': 300}}\n",
      "{'id': 'weight', 'type': 'continuous', 'values': {'categories': [], 'min': 0, 'max': 300}}\n",
      "{'id': 'weight', 'type': 'continuous', 'values': {'categories': [], 'min': 0, 'max': 300}}\n",
      "{'id': 'weight', 'type': 'continuous', 'values': {'categories': [], 'min': 0, 'max': 300}}\n",
      "{'id': 'weight', 'type': 'continuous', 'values': {'categories': [], 'min': 0, 'max': 300}}\n",
      "{'id': 'weight', 'type': 'continuous', 'values': {'categories': [], 'min': 0, 'max': 300}}\n",
      "{'id': 'weight', 'type': 'continuous', 'values': {'categories': [], 'min': 0, 'max': 300}}\n",
      "{'id': 'weight', 'type': 'continuous', 'values': {'categories': [], 'min': 0, 'max': 300}}\n",
      "{'id': 'weight', 'type': 'continuous', 'values': {'categories': [], 'min': 0, 'max': 300}}\n",
      "{'id': 'weight', 'type': 'continuous', 'values': {'categories': [], 'min': 0, 'max': 300}}\n",
      "{'id': 'weight', 'type': 'continuous', 'values': {'categories': [], 'min': 0, 'max': 300}}\n",
      "{'id': 'weight', 'type': 'continuous', 'values': {'categories': [], 'min': 0, 'max': 300}}\n",
      "{'id': 'weight', 'type': 'continuous', 'values': {'categories': [], 'min': 0, 'max': 300}}\n",
      "{'id': 'weight', 'type': 'continuous', 'values': {'categories': [], 'min': 0, 'max': 300}}\n",
      "{'id': 'weight', 'type': 'continuous', 'values': {'categories': [], 'min': 0, 'max': 300}}\n",
      "{'id': 'weight', 'type': 'continuous', 'values': {'categories': [], 'min': 0, 'max': 300}}\n",
      "{'id': 'weight', 'type': 'continuous', 'values': {'categories': [], 'min': 0, 'max': 300}}\n",
      "{'id': 'weight', 'type': 'continuous', 'values': {'categories': [], 'min': 0, 'max': 300}}\n",
      "{'id': 'weight', 'type': 'continuous', 'values': {'categories': [], 'min': 0, 'max': 300}}\n",
      "{'id': 'weight', 'type': 'continuous', 'values': {'categories': [], 'min': 0, 'max': 300}}\n",
      "{'id': 'weight', 'type': 'continuous', 'values': {'categories': [], 'min': 0, 'max': 300}}\n",
      "{'id': 'weight', 'type': 'continuous', 'values': {'categories': [], 'min': 0, 'max': 300}}\n",
      "{'id': 'weight', 'type': 'continuous', 'values': {'categories': [], 'min': 0, 'max': 300}}\n",
      "{'id': 'weight', 'type': 'continuous', 'values': {'categories': [], 'min': 0, 'max': 300}}\n",
      "{'id': 'weight', 'type': 'continuous', 'values': {'categories': [], 'min': 0, 'max': 300}}\n",
      "{'id': 'weight', 'type': 'continuous', 'values': {'categories': [], 'min': 0, 'max': 300}}\n",
      "{'id': 'weight', 'type': 'continuous', 'values': {'categories': [], 'min': 0, 'max': 300}}\n",
      "{'id': 'weight', 'type': 'continuous', 'values': {'categories': [], 'min': 0, 'max': 300}}\n",
      "{'id': 'weight', 'type': 'continuous', 'values': {'categories': [], 'min': 0, 'max': 300}}\n",
      "{'id': 'weight', 'type': 'continuous', 'values': {'categories': [], 'min': 0, 'max': 300}}\n",
      "{'id': 'weight', 'type': 'continuous', 'values': {'categories': [], 'min': 0, 'max': 300}}\n",
      "{'id': 'weight', 'type': 'continuous', 'values': {'categories': [], 'min': 0, 'max': 300}}\n",
      "{'id': 'weight', 'type': 'continuous', 'values': {'categories': [], 'min': 0, 'max': 300}}\n",
      "{'id': 'weight', 'type': 'continuous', 'values': {'categories': [], 'min': 0, 'max': 300}}\n",
      "{'id': 'weight', 'type': 'continuous', 'values': {'categories': [], 'min': 0, 'max': 300}}\n",
      "{'id': 'weight', 'type': 'continuous', 'values': {'categories': [], 'min': 0, 'max': 300}}\n",
      "{'id': 'weight', 'type': 'continuous', 'values': {'categories': [], 'min': 0, 'max': 300}}\n",
      "{'id': 'weight', 'type': 'continuous', 'values': {'categories': [], 'min': 0, 'max': 300}}\n",
      "{'id': 'weight', 'type': 'continuous', 'values': {'categories': [], 'min': 0, 'max': 300}}\n",
      "{'id': 'weight', 'type': 'continuous', 'values': {'categories': [], 'min': 0, 'max': 300}}\n",
      "{'id': 'weight', 'type': 'continuous', 'values': {'categories': [], 'min': 0, 'max': 300}}\n",
      "{'id': 'weight', 'type': 'continuous', 'values': {'categories': [], 'min': 0, 'max': 300}}\n",
      "{'id': 'weight', 'type': 'continuous', 'values': {'categories': [], 'min': 0, 'max': 300}}\n"
     ]
    }
   ],
   "source": [
    "#write the file\n",
    "with open(outfile_name, 'w') as outfile:\n",
    "    writer = csv.writer(outfile, delimiter=',')\n",
    "    headers = [field['id'] for field in data_descriptor_json['fields']]\n",
    "    fields = data_descriptor_json['fields']\n",
    "    writer.writerow(headers)\n",
    "    result_index = headers.index(predict_label)\n",
    "    for i in range(num_rows):\n",
    "        output = {}\n",
    "        row = []\n",
    "        rand_num = random.random()\n",
    "        for i in fields:\n",
    "            if i['id'] != predict_label:\n",
    "                random_val = random.uniform(i['values']['min'], i['values']['max'])\n",
    "                output[i['id']] = round(random_val, decimal_points)\n",
    "        # quick pass at code for adding some degree of error to the \"correct\" predictions\n",
    "        # error_pos_neg = 1 if random.random() < 0.5 else -1\n",
    "        prediction = formula(output) \n",
    "        # predict_error = prediction * error_pos_neg * error\n",
    "        # output[predict_label] = round(prediction + predict_error, decimal_points)\n",
    "        if rand_num < error:\n",
    "            print(fields[result_index])\n",
    "            output[predict_label] = round(random.uniform(fields[result_index]['values']['min'], fields[result_index]['values']['min']), decimal_points)\n",
    "        else:\n",
    "            output[predict_label] = round(prediction, decimal_points)\n",
    "        for i in headers:\n",
    "            row.append(output[i])\n",
    "        writer.writerow(row)\n",
    "                                                              \n",
    "                    \n",
    "                                                \n",
    "                                                              \n",
    "                \n",
    "        \n",
    "                \n",
    "                \n",
    "        \n",
    "        \n"
   ]
  },
  {
   "cell_type": "code",
   "execution_count": null,
   "metadata": {},
   "outputs": [],
   "source": []
  }
 ],
 "metadata": {
  "kernelspec": {
   "display_name": "Python 3",
   "language": "python",
   "name": "python3"
  },
  "language_info": {
   "codemirror_mode": {
    "name": "ipython",
    "version": 3
   },
   "file_extension": ".py",
   "mimetype": "text/x-python",
   "name": "python",
   "nbconvert_exporter": "python",
   "pygments_lexer": "ipython3",
   "version": "3.7.3"
  }
 },
 "nbformat": 4,
 "nbformat_minor": 2
}
